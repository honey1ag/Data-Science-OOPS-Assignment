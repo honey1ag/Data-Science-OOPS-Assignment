{
 "cells": [
  {
   "cell_type": "markdown",
   "metadata": {},
   "source": [
    "# OOPS TASK ASSIGNMENT"
   ]
  },
  {
   "cell_type": "markdown",
   "metadata": {},
   "source": [
    "Q1, Create a vehicle class with an init method having instance variables as name_of_vehicle, max_speed\n",
    "and average_of_vehicle."
   ]
  },
  {
   "cell_type": "code",
   "execution_count": 1,
   "metadata": {},
   "outputs": [
    {
     "data": {
      "text/plain": [
       "('jeep compass', 240, 18)"
      ]
     },
     "execution_count": 1,
     "metadata": {},
     "output_type": "execute_result"
    }
   ],
   "source": [
    "#Answer\n",
    "class vehical:\n",
    "    def __init__(self, name_of_vehical, max_speed, average_of_vehical):\n",
    "        self.name_of_vehical = name_of_vehical\n",
    "        self.max_speed = max_speed\n",
    "        self.average_of_vehical = average_of_vehical\n",
    "        \n",
    "    def return_vehical_details(self):\n",
    "        return self.name_of_vehical, self.max_speed, self.average_of_vehical\n",
    "    \n",
    "#creating object of the vehical class\n",
    "\n",
    "jeep = vehical(\"jeep compass\", 240 , 18)\n",
    "\n",
    "#returning vehical details\n",
    "\n",
    "jeep.return_vehical_details()"
   ]
  },
  {
   "cell_type": "markdown",
   "metadata": {},
   "source": [
    "Q2. Create a child class car from the vehicle class created in Que 1, which will inherit the vehicle class.\n",
    "Create a method named seating_capacity which takes capacity as an argument and returns the name of\n",
    "the vehicle and its seating capacity."
   ]
  },
  {
   "cell_type": "code",
   "execution_count": 2,
   "metadata": {},
   "outputs": [
    {
     "data": {
      "text/plain": [
       "'car_name: xuv700, capacity: 7'"
      ]
     },
     "execution_count": 2,
     "metadata": {},
     "output_type": "execute_result"
    }
   ],
   "source": [
    "#Answer\n",
    "class car(vehical):\n",
    "    \n",
    "    def seating_capacity(self, capacity):\n",
    "        self.capacity = capacity\n",
    "        return f\"car_name: {self.name_of_vehical}, capacity: {self.capacity}\"\n",
    "    \n",
    "mahindra = car(\"xuv700\", 260, 14)\n",
    "\n",
    "#printing output\n",
    "mahindra.seating_capacity(7)\n"
   ]
  },
  {
   "cell_type": "markdown",
   "metadata": {},
   "source": [
    "Q3. What is multiple inheritance? Write a python code to demonstrate multiple inheritance."
   ]
  },
  {
   "cell_type": "code",
   "execution_count": 3,
   "metadata": {},
   "outputs": [
    {
     "data": {
      "text/plain": [
       "'this is the function of class1'"
      ]
     },
     "execution_count": 3,
     "metadata": {},
     "output_type": "execute_result"
    }
   ],
   "source": [
    "#Answer\n",
    "#Multiple inheritance is a type of inheritance in which one class inherit from two different class.\n",
    "\n",
    "#Demonstrating multiple inheritance through python code\n",
    "\n",
    "# creating class1\n",
    "class class1:\n",
    "    def test1(self):\n",
    "        return \"this is the function of class1\"\n",
    "\n",
    "# creating class2    \n",
    "class class2:\n",
    "    def test2(self):\n",
    "        return \"this is the function of class2\"\n",
    "\n",
    "# Inheriting class3 with class 1 abd class 2    \n",
    "class class3(class1, class2):   \n",
    "    pass\n",
    "    \n",
    "    \n",
    "#creating object for class3\n",
    "object_class3 = class3()\n",
    "\n",
    "\n",
    "object_class3.test1()  #now running class1 function with class3 object\n"
   ]
  },
  {
   "cell_type": "code",
   "execution_count": 4,
   "metadata": {},
   "outputs": [
    {
     "data": {
      "text/plain": [
       "'this is the function of class2'"
      ]
     },
     "execution_count": 4,
     "metadata": {},
     "output_type": "execute_result"
    }
   ],
   "source": [
    "object_class3.test2()   #now running class2 function with class3 object\n"
   ]
  },
  {
   "cell_type": "markdown",
   "metadata": {},
   "source": [
    "Q4. What are getter and setter in python? Create a class and create a getter and a setter method in this\n",
    "class."
   ]
  },
  {
   "cell_type": "code",
   "execution_count": 5,
   "metadata": {},
   "outputs": [
    {
     "data": {
      "text/plain": [
       "4500"
      ]
     },
     "execution_count": 5,
     "metadata": {},
     "output_type": "execute_result"
    }
   ],
   "source": [
    "#Answer\n",
    "#In Python, getters and setters are methods used to control access to the attributes (instance variables) of a class.\n",
    "#They allow you to get and set the values of private attributes in a controlled manner, enabling data encapsulation\n",
    "#and providing an interface for interacting with the object's state.\n",
    "\n",
    "\n",
    "class subject:\n",
    "    def __init__(self, subject_name, subject_cost):\n",
    "        self.subject_name = subject_name\n",
    "        self.__subject_cost = subject_cost\n",
    "        \n",
    "    @property\n",
    "    def subject_cost_access(self):\n",
    "        return self.__subject_cost\n",
    "\n",
    "    @subject_cost_access.setter\n",
    "    def subject_cost_set(self, cost):\n",
    "        if cost<=3500:\n",
    "            pass\n",
    "        else:\n",
    "            self.__subject_cost = cost\n",
    "            \n",
    "    @subject_cost_access.getter\n",
    "    def subject_cost_get(self):\n",
    "        return self.__subject_cost\n",
    "        \n",
    "        \n",
    "s = subject(\"Data_science_masters\", 3500)\n",
    "        \n",
    "    \n",
    "s.subject_cost_set = 4500       #Using setter and setting price\n",
    "\n",
    "s.subject_cost_get                 #Using getter and getting price"
   ]
  },
  {
   "cell_type": "markdown",
   "metadata": {},
   "source": [
    "Q5.What is method overriding in python? Write a python code to demonstrate method overriding."
   ]
  },
  {
   "cell_type": "code",
   "execution_count": 6,
   "metadata": {
    "scrolled": true
   },
   "outputs": [
    {
     "name": "stdout",
     "output_type": "stream",
     "text": [
      "Dog barks\n",
      "Cat meows\n"
     ]
    }
   ],
   "source": [
    "#Answer \n",
    "# Method overriding in Python occurs when a subclass provides a specific implementation for a method that is already defined\n",
    "# in its superclass. This allows the subclass to modify or extend the behavior of the inherited method.\n",
    "   #\n",
    "#writing python code to demonstrate methord overriding\n",
    "\n",
    "class Animal:\n",
    "    def speak(self):\n",
    "        print(\"Animal speaks\")\n",
    "\n",
    "class Dog(Animal):\n",
    "    def speak(self):\n",
    "        print(\"Dog barks\")\n",
    "\n",
    "class Cat(Animal):\n",
    "    def speak(self):\n",
    "        print(\"Cat meows\")\n",
    "\n",
    "dog = Dog()\n",
    "cat = Cat()\n",
    "\n",
    "dog.speak()                      #In this example, the Animal class has a speak method, and both Dog and Cat classes override\n",
    "                                 #this method with their own implementations.  \n",
    "cat.speak()"
   ]
  }
 ],
 "metadata": {
  "kernelspec": {
   "display_name": "Python 3 (ipykernel)",
   "language": "python",
   "name": "python3"
  },
  "language_info": {
   "codemirror_mode": {
    "name": "ipython",
    "version": 3
   },
   "file_extension": ".py",
   "mimetype": "text/x-python",
   "name": "python",
   "nbconvert_exporter": "python",
   "pygments_lexer": "ipython3",
   "version": "3.7.3"
  }
 },
 "nbformat": 4,
 "nbformat_minor": 2
}
