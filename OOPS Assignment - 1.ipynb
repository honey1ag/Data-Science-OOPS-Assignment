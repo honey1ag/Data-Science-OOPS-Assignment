{
 "cells": [
  {
   "cell_type": "markdown",
   "metadata": {},
   "source": [
    "# OOPS Assignment - 1"
   ]
  },
  {
   "cell_type": "markdown",
   "metadata": {},
   "source": [
    "Q1. Explain Class and Object with respect to Object-Oriented Programming. Give a suitable example."
   ]
  },
  {
   "cell_type": "code",
   "execution_count": 1,
   "metadata": {},
   "outputs": [
    {
     "name": "stdout",
     "output_type": "stream",
     "text": [
      "Name: Mountain Bike, Gears: 11 \n"
     ]
    }
   ],
   "source": [
    "#Answer\n",
    "#In object oriented programing (oops), a class is a blueprint or template that defines the structure and behaviour of objects.\n",
    "#it encapsulates data and methord that operate on data. An object on the other hand, is an instance of a class. its represents\n",
    "#a specific entry or concept and holds its own unique set of data and can perform actions using the methords defined on its class.\n",
    "\n",
    "\n",
    "# define a class\n",
    "class Bike:\n",
    "    name = \"\"\n",
    "    gear = 0\n",
    "\n",
    "# create object of class\n",
    "bike1 = Bike()\n",
    "\n",
    "# access attributes and assign new values\n",
    "bike1.gear = 11\n",
    "bike1.name = \"Mountain Bike\"\n",
    "\n",
    "print(f\"Name: {bike1.name}, Gears: {bike1.gear} \")"
   ]
  },
  {
   "cell_type": "markdown",
   "metadata": {},
   "source": [
    "Q2. Name the four pillars of OOPs."
   ]
  },
  {
   "cell_type": "code",
   "execution_count": 2,
   "metadata": {},
   "outputs": [],
   "source": [
    "#Answer\n",
    "# Four pillars of OOPS are -\n",
    "# Encapsulation\n",
    "# Abstraction\n",
    "# Inheritance\n",
    "# Polymorphism"
   ]
  },
  {
   "cell_type": "markdown",
   "metadata": {},
   "source": [
    "Q3. Explain why the __init__() function is used. Give a suitable example."
   ]
  },
  {
   "cell_type": "code",
   "execution_count": 3,
   "metadata": {},
   "outputs": [
    {
     "name": "stdout",
     "output_type": "stream",
     "text": [
      "Hi, I'm Tom and I'm 22 years old.\n",
      "Hi, I'm Jerry and I'm 8 years old.\n"
     ]
    }
   ],
   "source": [
    "#Answer\n",
    "# The __init__ function is a special methord in python that is used as a constructor to installize the attributes of an object\n",
    "# when an instance of the class is created.\n",
    "\n",
    "class person:\n",
    "    def __init__(self, name, age):\n",
    "        self.name = name\n",
    "        self.age = age\n",
    "        \n",
    "    def introduce(self):\n",
    "        print(f\"Hi, I'm {self.name} and I'm {self.age} years old.\")\n",
    "        \n",
    "        \n",
    "# Creating instance of the person class\n",
    "person1 = person(\"Tom\", 22)\n",
    "person2 = person(\"Jerry\", 8)\n",
    "\n",
    "# Calling introduce() function on each person object\n",
    "person1.introduce()\n",
    "person2.introduce()"
   ]
  },
  {
   "cell_type": "markdown",
   "metadata": {},
   "source": [
    "Q4 -: Why self is used in OOPs?"
   ]
  },
  {
   "cell_type": "code",
   "execution_count": 4,
   "metadata": {},
   "outputs": [],
   "source": [
    "#Answer\n",
    "# self represents the instance of the class. By using the “self” we can access the attributes and methods of the class in python.\n",
    "# It binds the attributes with the given arguments. The reason you need to use self. is because Python does not use the @ syntax \n",
    "# to refer to instance attributes"
   ]
  },
  {
   "cell_type": "markdown",
   "metadata": {},
   "source": [
    "Q5. What is inheritance? Give an example for each type of inheritance."
   ]
  },
  {
   "cell_type": "code",
   "execution_count": 5,
   "metadata": {},
   "outputs": [
    {
     "name": "stdout",
     "output_type": "stream",
     "text": [
      "This function is in parent class.\n",
      "This function is in child class\n"
     ]
    }
   ],
   "source": [
    "#Answer\n",
    "#Inheritance is a fundamental concept in object oriented programming where a new class can be derived from an existing class.\n",
    "# The new class inherits properties and behaviour from the existing class. allowing the code reuse and hierarchical organisation.\n",
    "\n",
    "#There are five types of inheritance -\n",
    "# 1. Single inheritance\n",
    "# 2. Multiple inheritance\n",
    "# 3. Multilevel inheritance\n",
    "# 4. Hierarchical inheritance\n",
    "# 5. Hybrid inheritance\n",
    "\n",
    "# single inheritance\n",
    "\n",
    "# Single inheritance enables a derived class to inherit properties from a single parent class, thus enabling code reusability\n",
    "# and the addition of new features to existing code\n",
    "\n",
    "class parent:\n",
    "    def func1(self):\n",
    "        print(\"This function is in parent class.\")\n",
    "\n",
    "class child(parent):\n",
    "    def func2(self):\n",
    "        print(\"This function is in child class\")\n",
    "        \n",
    "object = child()\n",
    "object.func1()\n",
    "object.func2()\n",
    "              "
   ]
  },
  {
   "cell_type": "code",
   "execution_count": 6,
   "metadata": {},
   "outputs": [
    {
     "name": "stdout",
     "output_type": "stream",
     "text": [
      "Father : Nobita\n",
      "Mother : Sizuka\n"
     ]
    }
   ],
   "source": [
    "# Multiple inheritance\n",
    "\n",
    "# When a class can be derived from more than one base class this type of inheritance is called multiple inheritances.\n",
    "# In multiple inheritances, all the features of the base classes are inherited into the derived class. \n",
    "\n",
    "class Mother:\n",
    "    mothername = \"\"\n",
    "\n",
    "    def mother(self):\n",
    "        print(self.mothername)\n",
    "\n",
    "        \n",
    "class Father:\n",
    "    fathername = \"\"\n",
    "\n",
    "    def father(self):\n",
    "        print(self.fathername)\n",
    "\n",
    "\n",
    "class Son(Mother, Father):\n",
    "    def parents(self):\n",
    "        print(\"Father :\", self.fathername)\n",
    "        print(\"Mother :\", self.mothername)\n",
    "        \n",
    "s1 = Son()\n",
    "s1.fathername = \"Nobita\"\n",
    "s1.mothername = \"Sizuka\"\n",
    "\n",
    "\n",
    "s1.parents()\n",
    "        \n",
    "        "
   ]
  },
  {
   "cell_type": "code",
   "execution_count": 7,
   "metadata": {},
   "outputs": [
    {
     "data": {
      "text/plain": [
       "'this is a method from class1'"
      ]
     },
     "execution_count": 7,
     "metadata": {},
     "output_type": "execute_result"
    }
   ],
   "source": [
    "# Multilevel Inheritance :\n",
    "\n",
    "# In multilevel inheritance, features of the base class and the derived class are further inherited into the new derived class.\n",
    "# This is similar to a relationship representing a child and a grandfather. \n",
    "\n",
    "\n",
    "\n",
    "class class1 :\n",
    "    \n",
    "    def test_class1(self) :\n",
    "        return 'this is a method from class1'\n",
    "    \n",
    "class class2(class1) :\n",
    "    \n",
    "    def test_class2(self) :\n",
    "        return 'this is a method from class2'\n",
    "    \n",
    "    \n",
    "class class3(class2) :\n",
    "    pass\n",
    "    \n",
    "om = class3()\n",
    "om.test_class1()\n"
   ]
  },
  {
   "cell_type": "code",
   "execution_count": 8,
   "metadata": {},
   "outputs": [
    {
     "data": {
      "text/plain": [
       "'this is a method from class2'"
      ]
     },
     "execution_count": 8,
     "metadata": {},
     "output_type": "execute_result"
    }
   ],
   "source": [
    "om.test_class2()\n"
   ]
  },
  {
   "cell_type": "code",
   "execution_count": 9,
   "metadata": {},
   "outputs": [
    {
     "data": {
      "text/plain": [
       "'this is a method from class1'"
      ]
     },
     "execution_count": 9,
     "metadata": {},
     "output_type": "execute_result"
    }
   ],
   "source": [
    "obj_class3 = class3()\n",
    "obj_class3.test_class1()\n"
   ]
  },
  {
   "cell_type": "code",
   "execution_count": 10,
   "metadata": {},
   "outputs": [
    {
     "data": {
      "text/plain": [
       "'this is a method from class2'"
      ]
     },
     "execution_count": 10,
     "metadata": {},
     "output_type": "execute_result"
    }
   ],
   "source": [
    "obj_class3.test_class2()\n"
   ]
  },
  {
   "cell_type": "code",
   "execution_count": 11,
   "metadata": {},
   "outputs": [
    {
     "name": "stdout",
     "output_type": "stream",
     "text": [
      "This function is in parent class.\n"
     ]
    }
   ],
   "source": [
    "# Hierarchical Inheritance: \n",
    "\n",
    "# When more than one derived class are created from a single base this type of inheritance is called hierarchical inheritance.\n",
    "# In this program, we have a parent (base) class and two child (derived) classes\n",
    "\n",
    "\n",
    "\n",
    "class Parent:\n",
    "    def func1(self):\n",
    "        print(\"This function is in parent class.\")\n",
    "\n",
    "\n",
    "class Child1(Parent):\n",
    "    def func2(self):\n",
    "        print(\"This function is in child 1.\")\n",
    "\n",
    "\n",
    "class Child2(Parent):\n",
    "    def func3(self):\n",
    "        print(\"This function is in child 2.\")\n",
    "        \n",
    "object1 = Child1()\n",
    "object2 = Child2()\n",
    "object1.func1()\n"
   ]
  },
  {
   "cell_type": "code",
   "execution_count": 12,
   "metadata": {},
   "outputs": [
    {
     "name": "stdout",
     "output_type": "stream",
     "text": [
      "This function is in child 1.\n"
     ]
    }
   ],
   "source": [
    "object1.func2()\n"
   ]
  },
  {
   "cell_type": "code",
   "execution_count": 13,
   "metadata": {},
   "outputs": [
    {
     "name": "stdout",
     "output_type": "stream",
     "text": [
      "This function is in parent class.\n"
     ]
    }
   ],
   "source": [
    "object2.func1()\n"
   ]
  },
  {
   "cell_type": "code",
   "execution_count": 14,
   "metadata": {},
   "outputs": [
    {
     "name": "stdout",
     "output_type": "stream",
     "text": [
      "This function is in child 2.\n"
     ]
    }
   ],
   "source": [
    "object2.func3()\n"
   ]
  },
  {
   "cell_type": "code",
   "execution_count": 15,
   "metadata": {},
   "outputs": [
    {
     "name": "stdout",
     "output_type": "stream",
     "text": [
      "This function is in school.\n"
     ]
    }
   ],
   "source": [
    "# Hybrid Inheritance: \n",
    "\n",
    "# Inheritance consisting of multiple types of inheritance is called hybrid inheritance.\n",
    "\n",
    "\n",
    "class School:\n",
    "    def func1(self):\n",
    "        print(\"This function is in school.\")\n",
    "\n",
    "\n",
    "class Student1(School):\n",
    "    def func2(self):\n",
    "        print(\"This function is in student 1. \")\n",
    "\n",
    "\n",
    "class Student2(School):\n",
    "    def func3(self):\n",
    "        print(\"This function is in student 2.\")\n",
    "\n",
    "\n",
    "class Student3(Student1, School):\n",
    "    def func4(self):\n",
    "        print(\"This function is in student 3.\")\n",
    "        \n",
    "        \n",
    "        \n",
    "object = Student3()\n",
    "object.func1()\n"
   ]
  },
  {
   "cell_type": "code",
   "execution_count": 16,
   "metadata": {},
   "outputs": [
    {
     "name": "stdout",
     "output_type": "stream",
     "text": [
      "This function is in student 1. \n"
     ]
    }
   ],
   "source": [
    "object.func2()\n"
   ]
  },
  {
   "cell_type": "code",
   "execution_count": 17,
   "metadata": {},
   "outputs": [
    {
     "name": "stdout",
     "output_type": "stream",
     "text": [
      "This function is in student 3.\n"
     ]
    }
   ],
   "source": [
    "object.func4()\n"
   ]
  },
  {
   "cell_type": "code",
   "execution_count": 18,
   "metadata": {},
   "outputs": [
    {
     "name": "stdout",
     "output_type": "stream",
     "text": [
      "This function is in student 2.\n"
     ]
    }
   ],
   "source": [
    "object1 = Student2()\n",
    "object1.func3()\n",
    "\n"
   ]
  }
 ],
 "metadata": {
  "kernelspec": {
   "display_name": "Python 3 (ipykernel)",
   "language": "python",
   "name": "python3"
  },
  "language_info": {
   "codemirror_mode": {
    "name": "ipython",
    "version": 3
   },
   "file_extension": ".py",
   "mimetype": "text/x-python",
   "name": "python",
   "nbconvert_exporter": "python",
   "pygments_lexer": "ipython3",
   "version": "3.7.3"
  }
 },
 "nbformat": 4,
 "nbformat_minor": 2
}
